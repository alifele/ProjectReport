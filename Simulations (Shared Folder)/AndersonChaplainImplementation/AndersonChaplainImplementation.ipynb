{
 "cells": [
  {
   "cell_type": "code",
   "execution_count": 83,
   "id": "de4873e0-b400-4912-9ff8-b1963e061404",
   "metadata": {},
   "outputs": [],
   "source": [
    "import numpy as np\n",
    "import matplotlib.pyplot as plt"
   ]
  },
  {
   "cell_type": "code",
   "execution_count": 192,
   "id": "52780501-b14e-42b1-8fdc-85996883bd51",
   "metadata": {},
   "outputs": [],
   "source": [
    "def n_0(X,Y):\n",
    "    # return np.exp(-((X-L/2)**2 + (Y-L/2)**2)/(0.3)**2)\n",
    "    return np.abs(np.sin(3*np.pi*Y/L)) * np.exp(-0.5*(X/0.1)**2)\n",
    "\n",
    "def c_0(X,Y):\n",
    "    return np.exp(-0.5*((1-X)/0.5)**2)\n",
    "\n",
    "def f_0(X,Y):\n",
    "    return np.exp(-0.5*((X)/0.5)**2)"
   ]
  },
  {
   "cell_type": "code",
   "execution_count": 193,
   "id": "f830e067-604a-48b3-9f27-25c7292a82e3",
   "metadata": {},
   "outputs": [],
   "source": [
    "def step(n,f,c):\n",
    "    n = np.reshape(-1,1).copy()\n",
    "    f = np.reshape(-1,1).copy()\n",
    "    c = np.reshape(-1,1).copy()\n",
    "\n",
    "    n = N_mat.dot(n)\n",
    "    f = f*(1-k*gamma*n) + k * beta * n\n",
    "    c = c*(1-k*eta*n)\n",
    "\n"
   ]
  },
  {
   "cell_type": "code",
   "execution_count": null,
   "id": "6f72d63c-d759-4330-b880-51c69ca753b1",
   "metadata": {},
   "outputs": [],
   "source": []
  },
  {
   "cell_type": "code",
   "execution_count": 219,
   "id": "e883ba55-aab0-41ae-9588-b4a5284b4d51",
   "metadata": {},
   "outputs": [],
   "source": [
    "\n",
    "\n",
    "def P0(c,f):\n",
    "    p_0 = np.zeros((N_x,N_x))\n",
    "    p_0[1:-1,1:-1] += 1 - 4*k*D/h**2 + (k*alpha*chi*c[1:-1,1:-1])/(4*h**2*(1+alpha*c[1:-1,1:-1])) * ((c[1:-1,2:] - c[1:-1,:-2])**2 + (c[2:,1:-1] - c[:-2,1:-1])**2)\n",
    "    p_0[1:-1,1:-1] += -k*chi*c[1:-1,1:-1]/h**2 * (-4*c[1:-1,1:-1] + c[2:,1:-1] + c[:-2,1:-1] +  c[1:-1,2:] + c[1:-1,:-2])\n",
    "    p_0[1:-1,1:-1] += -k*rho/h**2 * (-4*f[1:-1,1:-1] + f[2:,1:-1] + f[:-2,1:-1] +  f[1:-1,2:] + f[1:-1,:-2])\n",
    "\n",
    "    return p_0\n",
    "def P1(c,f):\n",
    "    p_1 = np.zeros((N_x,N_x))\n",
    "    p_1[1:-1,1:-1] += k*D/h**2 - k/(4*h**2)*(chi*c[1:-1,1:-1]*(c[1:-1,2:] - c[1:-1,:-2]) + rho*(f[1:-1,2:] - f[1:-1,:-2]) )\n",
    "\n",
    "def P2(c,f):\n",
    "    p_2 = np.zeros((N_x,N_x))\n",
    "    p_2[1:,-1,1:-1] += k*D/h**2 + k/(4*h**2)*(chi*c[1:-1,1:-1]*(c[1:-1,2:] - c[1:-1,:-2]) + rho*(f[1:-1,2:] - f[1:-1,:-2]) )\n",
    "\n"
   ]
  },
  {
   "cell_type": "code",
   "execution_count": 227,
   "id": "fcfa824f-fd1d-4956-970d-06c4a0b63a08",
   "metadata": {},
   "outputs": [],
   "source": [
    "L = 1\n",
    "T_end = 1\n",
    "D = 0.001\n",
    "chi = 0.1\n",
    "alpha = 1\n",
    "beta = 1\n",
    "gamma = 1\n",
    "rho = 1\n",
    "eta = 1\n",
    "\n",
    "\n",
    "N_x = 101\n",
    "dt = 0.01\n",
    "xList = np.linspace(0,L,N_x)\n",
    "yList = np.linspace(0,L,N_x)\n",
    "tList = np.arange(0,T_end,dt)\n",
    "\n",
    "k = tList[1] - tList[0]\n",
    "h = xList[1] - xList[0]\n",
    "\n",
    "n = np.zeros((N_x,N_x))\n",
    "c = np.zeros((N_x,N_x))\n",
    "f = np.zeros((N_x,N_x))\n",
    "nList = []\n",
    "cList = []\n",
    "fList = []\n",
    "\n",
    "X,Y = np.meshgrid(xList,yList)\n",
    "\n",
    "N_mat = get_N_mat()\n",
    "C_mat = get_C_mat()\n",
    "F_mat = get_F_mat()\n"
   ]
  },
  {
   "cell_type": "code",
   "execution_count": null,
   "id": "d14054c7-b240-4274-ac11-a4112a103b46",
   "metadata": {},
   "outputs": [],
   "source": []
  },
  {
   "cell_type": "code",
   "execution_count": null,
   "id": "88aa1f65-1638-411b-8aab-91fde5e39a17",
   "metadata": {},
   "outputs": [],
   "source": []
  },
  {
   "cell_type": "code",
   "execution_count": 228,
   "id": "5a889791-193d-4419-8afb-9cf8d8038c50",
   "metadata": {},
   "outputs": [
    {
     "data": {
      "text/plain": [
       "<matplotlib.colorbar.Colorbar at 0x778f2626e1d0>"
      ]
     },
     "execution_count": 228,
     "metadata": {},
     "output_type": "execute_result"
    },
    {
     "data": {
      "image/png": "[encoded data removed]",
      "text/plain": [
       "<Figure size 640x480 with 2 Axes>"
      ]
     },
     "metadata": {},
     "output_type": "display_data"
    }
   ],
   "source": [
    "n = 0.01*n_0(X,Y)\n",
    "c = 0.01*c_0(X,Y)\n",
    "f = 0.01*f_0(X,Y)\n",
    "plt.imshow(P0(c,f))\n",
    "plt.colorbar()"
   ]
  },
  {
   "cell_type": "code",
   "execution_count": 222,
   "id": "edf02772-f175-4c8c-9646-073685b5fc8a",
   "metadata": {},
   "outputs": [
    {
     "data": {
      "text/plain": [
       "array([[   0.        ,    0.        ,    0.        , ...,    0.        ,\n",
       "           0.        ,    0.        ],\n",
       "       [   0.        , -398.99960051, -398.99960124, ..., -399.00016251,\n",
       "        -399.00016051,    0.        ],\n",
       "       [   0.        , -398.99960051, -398.99960124, ..., -399.00016251,\n",
       "        -399.00016051,    0.        ],\n",
       "       ...,\n",
       "       [   0.        , -398.99960051, -398.99960124, ..., -399.00016251,\n",
       "        -399.00016051,    0.        ],\n",
       "       [   0.        , -398.99960051, -398.99960124, ..., -399.00016251,\n",
       "        -399.00016051,    0.        ],\n",
       "       [   0.        ,    0.        ,    0.        , ...,    0.        ,\n",
       "           0.        ,    0.        ]])"
      ]
     },
     "execution_count": 222,
     "metadata": {},
     "output_type": "execute_result"
    }
   ],
   "source": [
    "P0(c,f)\n"
   ]
  },
  {
   "cell_type": "code",
   "execution_count": null,
   "id": "abd3d7bd-8509-4728-9f35-b105d4eaa156",
   "metadata": {},
   "outputs": [],
   "source": []
  },
  {
   "cell_type": "code",
   "execution_count": 117,
   "id": "e21afb43-ea19-4eb5-9a39-60954c6aa22c",
   "metadata": {},
   "outputs": [],
   "source": [
    "u_2 = -4*u[1:-1,1:-1] + u[2:,1:-1] + u[:-2,1:-1] +  u[1:-1,2:] + u[1:-1,:-2]"
   ]
  },
  {
   "cell_type": "code",
   "execution_count": 118,
   "id": "9b229d1c-29f7-4f3a-92e1-68ad21998b0d",
   "metadata": {},
   "outputs": [
    {
     "data": {
      "text/plain": [
       "<matplotlib.image.AxesImage at 0x778f28907010>"
      ]
     },
     "execution_count": 118,
     "metadata": {},
     "output_type": "execute_result"
    },
    {
     "data": {
      "image/png": "[encoded data removed]",
      "text/plain": [
       "<Figure size 480x480 with 1 Axes>"
      ]
     },
     "metadata": {},
     "output_type": "display_data"
    }
   ],
   "source": [
    "plt.matshow(u_2)"
   ]
  },
  {
   "cell_type": "code",
   "execution_count": null,
   "id": "6059fd82-b971-4253-acc9-37dc183aa9f7",
   "metadata": {},
   "outputs": [],
   "source": []
  }
 ],
 "metadata": {
  "kernelspec": {
   "display_name": "Python (Computation)",
   "language": "python",
   "name": "computation"
  },
  "language_info": {
   "codemirror_mode": {
    "name": "ipython",
    "version": 3
   },
   "file_extension": ".py",
   "mimetype": "text/x-python",
   "name": "python",
   "nbconvert_exporter": "python",
   "pygments_lexer": "ipython3",
   "version": "3.10.12"
  }
 },
 "nbformat": 4,
 "nbformat_minor": 5
}
