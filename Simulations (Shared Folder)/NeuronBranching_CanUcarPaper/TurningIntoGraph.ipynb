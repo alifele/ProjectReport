{
 "cells": [
  {
   "cell_type": "markdown",
   "id": "70b033f1",
   "metadata": {},
   "source": [
    "This notebook includes a sample script to run simulations of branching and annihilating random walks that are explored in the manuscript \"Theory of branching morphogenesis by local interactions and global guidance\". A detailed description of the simulation setup can be found in the supplementary file of the published manuscript."
   ]
  },
  {
   "cell_type": "code",
   "id": "9ce1ba19",
   "metadata": {
    "ExecuteTime": {
     "end_time": "2024-10-01T17:52:05.215298Z",
     "start_time": "2024-10-01T17:52:05.210692Z"
    }
   },
   "source": [
    "import numpy as np\n",
    "from numpy import *\n",
    "from numpy import random\n",
    "from numpy import linalg as LA\n",
    "%matplotlib inline\n",
    "import matplotlib\n",
    "import matplotlib.pyplot as plt\n",
    "import matplotlib.patches as mpatches\n",
    "from pylab import *\n",
    "from timeit import Timer\n",
    "\n",
    "\n",
    "from matplotlib.collections import LineCollection\n",
    "from matplotlib.cm import get_cmap\n",
    "from tqdm import tqdm\n",
    "\n",
    "import networkx as nx\n",
    "from matplotlib.backends.backend_agg import FigureCanvasAgg as FigureCanvas\n",
    "from matplotlib.figure import Figure"
   ],
   "outputs": [],
   "execution_count": 20
  },
  {
   "cell_type": "code",
   "id": "f15dfd11",
   "metadata": {
    "ExecuteTime": {
     "end_time": "2024-10-01T17:52:13.515540Z",
     "start_time": "2024-10-01T17:52:13.513316Z"
    }
   },
   "source": [
    "from matplotlib import rc\n",
    "rc('text', usetex=True)\n",
    "rc('font',size=20)\n",
    "rc('font',family='serif')\n",
    "rc('axes',labelsize=20)"
   ],
   "outputs": [],
   "execution_count": 21
  },
  {
   "cell_type": "markdown",
   "id": "9f8041bd",
   "metadata": {},
   "source": [
    "We initialize the simulation box and the variables to be updated in the loop:"
   ]
  },
  {
   "cell_type": "code",
   "id": "731a9257",
   "metadata": {
    "ExecuteTime": {
     "end_time": "2024-10-01T17:52:14.868746Z",
     "start_time": "2024-10-01T17:52:14.863916Z"
    }
   },
   "source": [
    "# Define the dimensions of the simulation box\n",
    "Lx = 200\n",
    "Lz = 300\n",
    "\n",
    "# Elongation length (step size)\n",
    "lstep = 1\n",
    "\n",
    "# minimum branching angle\n",
    "min_branch = pi/10\n",
    "\n",
    "# Define a distance function between two nodes\n",
    "def distance(vect,tip):\n",
    "    diff = np.add(vect[:2],-tip[:2])\n",
    "    distance = LA.norm(diff)\n",
    "    return distance\n",
    "\n",
    "# cutoff length for annihilation via tip-node contact\n",
    "cutoff = 1.5*lstep\n",
    "# Radius and strength of attraction/repulsion (if fav<0, then attraction)\n",
    "radavoid = 10*lstep\n",
    "\n",
    "def init():\n",
    "    global node, angle, angle_list, coordinates, evolve, G\n",
    "\n",
    "    node = np.array([[0,Lz/2,0,1]])\n",
    "    angle_init = [0.0]\n",
    "    angle = np.array(angle_init)\n",
    "    angle_list = np.array([[0,0]])\n",
    "    diff = 0\n",
    "    evolve = np.array([len(node)])\n",
    "    coordinates = np.array([node[0]])    \n",
    "\n",
    "    G = nx.Graph()\n",
    "    duct_start_points = [(node[0][0], node[0][1])]\n",
    "    # Add the first node to the graph\n",
    "    initial_point = (node[0][0], node[0][1])\n",
    "    G.add_node(initial_point)\n",
    "    "
   ],
   "outputs": [],
   "execution_count": 22
  },
  {
   "cell_type": "markdown",
   "id": "c2eeea7b",
   "metadata": {},
   "source": [
    "The following function defines the transition probabilities modified by the external field strength during elongation:"
   ]
  },
  {
   "cell_type": "code",
   "id": "67599b60",
   "metadata": {
    "ExecuteTime": {
     "end_time": "2024-10-01T17:52:16.785931Z",
     "start_time": "2024-10-01T17:52:16.782857Z"
    }
   },
   "source": [
    "def prob_list(x,f,pb):\n",
    "    # bias for forward steps\n",
    "    alpha = np.clip((1-f*np.sin(x))/2,0,1)\n",
    "    # bias for backward steps \n",
    "    beta = np.clip((1+f*np.sin(x))/2,0,1)\n",
    "\n",
    "    # list of stepping probabilities:\n",
    "    problist = np.array([(1-pb)*alpha,(1-pb)*beta,pb*alpha,pb*beta])\n",
    "    # 'cumulative' probabilities of the list\n",
    "    cum_prob = [0]+[sum(problist[:j+1]) for j in range(len(problist))]\n",
    "    \n",
    "    probs = {'problist':problist,'cumulative':np.array(cum_prob)}\n",
    "    \n",
    "    return probs"
   ],
   "outputs": [],
   "execution_count": 23
  },
  {
   "cell_type": "markdown",
   "id": "5c034301",
   "metadata": {},
   "source": [
    "The following function when evaluated in a loop will generate branched networks with assigned coordinates and angle values:"
   ]
  },
  {
   "cell_type": "code",
   "id": "bae59fca",
   "metadata": {
    "ExecuteTime": {
     "end_time": "2024-10-01T17:53:09.209417Z",
     "start_time": "2024-10-01T17:53:09.167500Z"
    }
   },
   "source": [
    "# Simulation for branching with annihilation, self-avoidance and external guidance\n",
    "\n",
    "# prob_branch : branching probability, fav : self-avoidance strength, fchem : external field strength\n",
    "\n",
    "def tissue1(prob_branch,fav,fchem):\n",
    "\n",
    "    '''\n",
    "    node: contains the [x,y,genID,branchID] of the tips only\n",
    "    angle: contains the [\\phi, branchID] of the tips only\n",
    "    coordinates: contains the [x,y,genID,branchID] of every point of the branches\n",
    "    angle_list: contains the [\\phi, branchID] of every points of the branches\n",
    "    \n",
    "    \n",
    "    '''\n",
    "    global node, angle, angle_list, coordinates, evolve, G\n",
    "\n",
    "    skip =0 \n",
    "\n",
    "    # draw random numbers to decide on next jumps:\n",
    "    rnr = rand(len(angle))\n",
    "    \n",
    "    # determine the cumulative distribution of the stepping probabilities:\n",
    "    # (use angle values from the local angle list to impose parallel field as guidance)\n",
    "    cumprob = np.array([prob_list(np.radians(item),fchem,prob_branch)['cumulative'] for item in angle_list[-(len(angle)):,0]])\n",
    "    # determine the first entry of cumprob that is larger than rnr, and take the entry before that:\n",
    "    index_rnr = np.array([np.where(cumprob[j]>rnr[j])[0][0]-1 for j in range(len(rnr))])\n",
    "\n",
    "    node_temp = coordinates[-int(evolve[-1]):]\n",
    "\n",
    "    for j in range(len(index_rnr)): # This loops over all the active tip cells.\n",
    "        coord_temp = np.append(coordinates,np.array(node),axis=0)\n",
    "        # highest tree label of existing nodes\n",
    "        topnr = max(coord_temp[:,-1])\n",
    "\n",
    "        # elongation happens for the first two entries of the cumulative dist:\n",
    "        if index_rnr[j] == 0:\n",
    "            # determine a random elongation angle\n",
    "            # change the angle and coordinates of active tips\n",
    "            ang_elong = np.random.uniform(0,min_branch)\n",
    "            # the first entry of cumulative distribution cooresponds to a forward step, i.e. increase the local angle!\n",
    "            angle[j+skip] += ang_elong\n",
    "            node[j+skip] = [node[j+skip][0]+lstep*cos(angle[j+skip]),\\\n",
    "                            node[j+skip][1]+lstep*sin(angle[j+skip]),node[j+skip][2],node[j+skip][3]]   \n",
    "        elif index_rnr[j] == 1:\n",
    "            # determine a random elongation angle\n",
    "            # change the angle and coordinates of active tips\n",
    "            ang_elong = np.random.uniform(0,min_branch)\n",
    "            # the second entry of cumulative distribution cooresponds to a backward step, i.e. decrease the local angle!\n",
    "            angle[j+skip] -= ang_elong\n",
    "            node[j+skip] = [node[j+skip][0]+lstep*cos(angle[j+skip]),\\\n",
    "                            node[j+skip][1]+lstep*sin(angle[j+skip]),node[j+skip][2],node[j+skip][3]]  \n",
    "            \n",
    "        # branching happens for the last two entries of the cumulative dist:\n",
    "        elif index_rnr[j] >= 2:\n",
    "            # determine two random angles between pi/10 and pi/2:\n",
    "            ang_branch1 = np.random.uniform(min_branch,pi/2)\n",
    "            ang_branch2 = np.random.uniform(min_branch,pi/2)\n",
    "            # add a new branch changing the coordinates with the random angle ang_branch1: \n",
    "            angle = np.insert(angle,j+skip+1,angle[j+skip]+ang_branch1)\n",
    "            node = np.insert(node,j+skip+1,[node[j+skip][0]+lstep*cos(angle[j+skip+1]), \\\n",
    "                             node[j+skip][1]+lstep*sin(angle[j+skip+1]),node[j+skip][3],topnr+2],axis=0)\n",
    "            # change the angle and coordinates of the remaining branch with the random angle ang_branch2: \n",
    "            angle[j+skip] = angle[j+skip]-ang_branch2\n",
    "            node[j+skip] = [node[j+skip][0]+lstep*cos(angle[j+skip]), \\\n",
    "                            node[j+skip][1]+lstep*sin(angle[j+skip]),node[j+skip][3],topnr+1]\n",
    "            skip += 1\n",
    "\n",
    "    \n",
    "    # Make a list of local angle (\\varphi) values BEFORE avoidance or guidance:\n",
    "    angle = (angle+pi) % (2*pi) - pi \n",
    "    \n",
    "    for j in range(len(node)):\n",
    "        \n",
    "        # self-avoidance rules (apply only if there is avoidance potential):\n",
    "        if fav!=0:\n",
    "            tip = node[j]\n",
    "\n",
    "            # determine the distances between the active tip and inactive nodes\n",
    "            dist = np.add(tip,-coordinates)\n",
    "\n",
    "            # ignore distances between active tip and parent nodes, as well as within the same duct and sister branches\n",
    "            for k in range(len(dist)):\n",
    "                if tip[-2]==coordinates[k,-1] or tip[-1]==coordinates[k,-1] or tip[-2]==coordinates[k,-2]:\n",
    "                    dist[k] = [0,0,0,0]\n",
    "                # ignore distances above avoidance potential\n",
    "                norm = LA.norm(dist[k][:2])\n",
    "                if norm > radavoid:\n",
    "                    dist[k] = [0,0,0,0]\n",
    "\n",
    "            # sum of the distances within radavoid for the active tip\n",
    "            dist_sum = np.array(np.sum(dist[:,:2],axis=0))\n",
    "            # normalized vector and the final displacement vector weighted by a factor 'fav'\n",
    "            norm_dis = LA.norm(dist_sum)\n",
    "            if norm_dis > 0:\n",
    "                displace = np.array(dist_sum/norm_dis)\n",
    "            else:\n",
    "                displace = np.array([0,0])\n",
    "\n",
    "            pol = -fav*displace\n",
    "\n",
    "            tip[0] += pol[0]\n",
    "            tip[1] += pol[1]\n",
    "\n",
    "            for k in range(len(node_temp)):\n",
    "                # filter only displaced nodes\n",
    "                if pol[0]!=0 and pol[1]!=0:\n",
    "                    # calculate distance between the displaced node and its previous instance or its parent\n",
    "                    if tip[-1]==node_temp[k][-1] or tip[-2]==node_temp[k][-1]:\n",
    "                        displace_more = np.add(tip[:2],-node_temp[k][:2])\n",
    "                        normalize = LA.norm(displace_more)                    \n",
    "                        # update node coordinates s.t. normalized distance from previous instance is = 1                    \n",
    "                        node[j][0] = node_temp[k][0]+displace_more[0]/normalize\n",
    "                        node[j][1] = node_temp[k][1]+displace_more[1]/normalize\n",
    "                        # update the angle of the displaced node\n",
    "                        ydis = node[j][1]-node_temp[k][1]\n",
    "                        xdis = node[j][0]-node_temp[k][0]\n",
    "                        if xdis<0:\n",
    "                            angle[j] = pi + np.arctan(ydis/xdis)\n",
    "                        else:\n",
    "                            angle[j] = np.arctan(ydis/xdis)\n",
    "\n",
    "    # tip annihilation condition:\n",
    "    skipp = 0\n",
    "\n",
    "    # list of recent nodes generated in the last 2 time steps\n",
    "    checklist = [list(item) for item in coordinates[-int(np.sum(evolve[-2:])):]]\n",
    "\n",
    "    for j in range(len(node)):\n",
    "        tip = np.array(node[j-skipp])\n",
    "        once = 0\n",
    "\n",
    "        # end loop if there are no active tips left         \n",
    "        if len(node)==0:\n",
    "            break\n",
    "\n",
    "        # annihilation due to active tip-passive node contact\n",
    "        for item in coordinates:\n",
    "            radius = distance(item[:2],tip[:2])\n",
    "            # exclude nodes from the same duct, from the parent ..\n",
    "            # ..if these nodes were generated in the last 2 time steps\n",
    "            if list(item) in checklist:\n",
    "                if item[-1]!=tip[-1] and item[-1]!=tip[-2]:\n",
    "                    if 0<radius<cutoff:\n",
    "                        node = np.delete(node,j-skipp,0)\n",
    "                        angle = np.delete(angle,j-skipp,0)\n",
    "                        once = 1\n",
    "                        skipp += 1\n",
    "            elif 0<radius<cutoff:\n",
    "                node = np.delete(node,j-skipp,0)\n",
    "                angle = np.delete(angle,j-skipp,0)\n",
    "                once = 1\n",
    "                skipp += 1\n",
    "            if once==1:\n",
    "                break     \n",
    "\n",
    "    # save the length of node vector (to track node evolution over time)\n",
    "    evolve = np.append(evolve,len(node))\n",
    "\n",
    "    # set angle values to be within [-pi,pi]\n",
    "    angle = (angle+pi) % (2*pi) - pi     \n",
    "    # save the angles of nodes [in degrees!] including the generation number\n",
    "    angle_list = np.append(angle_list,np.column_stack((np.degrees(angle),node[:,-1])),axis=0)\n",
    "\n",
    "    # save the coordinates of all nodes\n",
    "    coordinates = np.append(coordinates,np.array(node),axis=0) \n",
    "\n",
    "\n",
    " \n",
    "def plotter_basic():\n",
    "\n",
    "    # Plot simulated network\n",
    "\n",
    "    fig, ax = plt.subplots(figsize=(4,4))\n",
    "    ms = 1.5\n",
    "\n",
    "    # this function can be used to plot the network until a certain time point\n",
    "\n",
    "    def step(till,evolve):\n",
    "        step = np.sum(evolve[:till])\n",
    "        return int(step)\n",
    "\n",
    "    # choose time1 to plot until a certain timepoint (time1=tmax for the complete network)\n",
    "    time1 = tmax-1\n",
    "    time2 = time1+1\n",
    "\n",
    "    x = [item[0] for item in coordinates[:step(time2,evolve)]]\n",
    "    y = [item[1] for item in coordinates[:step(time2,evolve)]]\n",
    "\n",
    "\n",
    "    ax.plot(x,y,'o', color='steelblue', markersize=ms)    \n",
    "    ax.plot(x[0],y[0],'x',color='firebrick',markersize=8)\n",
    "\n",
    "    # plot active tips with different color\n",
    "    ax.plot(x[step(time1,evolve):step(time2,evolve)],y[step(time1,evolve):step(time2,evolve)],'o',color='C1',markersize=ms+1.5)\n",
    "\n",
    "\n",
    "    plt.tick_params(    \n",
    "        which='both',      # both major and minor ticks are affected\n",
    "        bottom=False,      # ticks along the bottom edge are off\n",
    "        top=False,   \n",
    "        left=False,\n",
    "        labelleft=False,\n",
    "        labelbottom=False) \n"
   ],
   "outputs": [],
   "execution_count": 27
  },
  {
   "cell_type": "markdown",
   "id": "0cf5846b",
   "metadata": {},
   "source": [
    "Run a test simulation with selected branching probability $p_b$, self-avoidance parameter $f_s$ and external field strength $f_c$ until a timepoint $t_{max}$ is reached:"
   ]
  },
  {
   "cell_type": "code",
   "id": "6c55ad64",
   "metadata": {
    "ExecuteTime": {
     "end_time": "2024-10-01T18:04:56.462819Z",
     "start_time": "2024-10-01T18:04:25.629108Z"
    }
   },
   "source": [
    "init()\n",
    "\n",
    "t = 0\n",
    "tmax = 150\n",
    "prob_branch = 0.03\n",
    "fav = -0.1*0\n",
    "fchem = 0.6\n",
    "\n",
    "for t in tqdm(range(tmax), desc=\"Simulation Progress\"):\n",
    "    t+=1\n",
    "    if t<5 and len(node)>1:\n",
    "        break\n",
    "    if len(node)!=0:\n",
    "        tissue1(0.03,-0.1,0.6)\n",
    "    if len(node)==0:\n",
    "        break   "
   ],
   "outputs": [
    {
     "name": "stderr",
     "output_type": "stream",
     "text": [
      "Simulation Progress:   0%|          | 0/150 [00:30<?, ?it/s]\n"
     ]
    },
    {
     "ename": "KeyboardInterrupt",
     "evalue": "",
     "output_type": "error",
     "traceback": [
      "\u001B[0;31m---------------------------------------------------------------------------\u001B[0m",
      "\u001B[0;31mKeyboardInterrupt\u001B[0m                         Traceback (most recent call last)",
      "\u001B[0;32m/tmp/ipykernel_70027/4089830924.py\u001B[0m in \u001B[0;36m<module>\u001B[0;34m\u001B[0m\n\u001B[1;32m     12\u001B[0m         \u001B[0;32mbreak\u001B[0m\u001B[0;34m\u001B[0m\u001B[0;34m\u001B[0m\u001B[0m\n\u001B[1;32m     13\u001B[0m     \u001B[0;32mif\u001B[0m \u001B[0mlen\u001B[0m\u001B[0;34m(\u001B[0m\u001B[0mnode\u001B[0m\u001B[0;34m)\u001B[0m\u001B[0;34m!=\u001B[0m\u001B[0;36m0\u001B[0m\u001B[0;34m:\u001B[0m\u001B[0;34m\u001B[0m\u001B[0;34m\u001B[0m\u001B[0m\n\u001B[0;32m---> 14\u001B[0;31m         \u001B[0mtissue1\u001B[0m\u001B[0;34m(\u001B[0m\u001B[0;36m0.03\u001B[0m\u001B[0;34m,\u001B[0m\u001B[0;34m-\u001B[0m\u001B[0;36m0.1\u001B[0m\u001B[0;34m,\u001B[0m\u001B[0;36m0.6\u001B[0m\u001B[0;34m)\u001B[0m\u001B[0;34m\u001B[0m\u001B[0;34m\u001B[0m\u001B[0m\n\u001B[0m\u001B[1;32m     15\u001B[0m     \u001B[0;32mif\u001B[0m \u001B[0mlen\u001B[0m\u001B[0;34m(\u001B[0m\u001B[0mnode\u001B[0m\u001B[0;34m)\u001B[0m\u001B[0;34m==\u001B[0m\u001B[0;36m0\u001B[0m\u001B[0;34m:\u001B[0m\u001B[0;34m\u001B[0m\u001B[0;34m\u001B[0m\u001B[0m\n\u001B[1;32m     16\u001B[0m         \u001B[0;32mbreak\u001B[0m\u001B[0;34m\u001B[0m\u001B[0;34m\u001B[0m\u001B[0m\n",
      "\u001B[0;32m/tmp/ipykernel_70027/1942965646.py\u001B[0m in \u001B[0;36mtissue1\u001B[0;34m(prob_branch, fav, fchem)\u001B[0m\n\u001B[1;32m     26\u001B[0m     \u001B[0mindex_rnr\u001B[0m \u001B[0;34m=\u001B[0m \u001B[0mnp\u001B[0m\u001B[0;34m.\u001B[0m\u001B[0marray\u001B[0m\u001B[0;34m(\u001B[0m\u001B[0;34m[\u001B[0m\u001B[0mnp\u001B[0m\u001B[0;34m.\u001B[0m\u001B[0mwhere\u001B[0m\u001B[0;34m(\u001B[0m\u001B[0mcumprob\u001B[0m\u001B[0;34m[\u001B[0m\u001B[0mj\u001B[0m\u001B[0;34m]\u001B[0m\u001B[0;34m>\u001B[0m\u001B[0mrnr\u001B[0m\u001B[0;34m[\u001B[0m\u001B[0mj\u001B[0m\u001B[0;34m]\u001B[0m\u001B[0;34m)\u001B[0m\u001B[0;34m[\u001B[0m\u001B[0;36m0\u001B[0m\u001B[0;34m]\u001B[0m\u001B[0;34m[\u001B[0m\u001B[0;36m0\u001B[0m\u001B[0;34m]\u001B[0m\u001B[0;34m-\u001B[0m\u001B[0;36m1\u001B[0m \u001B[0;32mfor\u001B[0m \u001B[0mj\u001B[0m \u001B[0;32min\u001B[0m \u001B[0mrange\u001B[0m\u001B[0;34m(\u001B[0m\u001B[0mlen\u001B[0m\u001B[0;34m(\u001B[0m\u001B[0mrnr\u001B[0m\u001B[0;34m)\u001B[0m\u001B[0;34m)\u001B[0m\u001B[0;34m]\u001B[0m\u001B[0;34m)\u001B[0m\u001B[0;34m\u001B[0m\u001B[0;34m\u001B[0m\u001B[0m\n\u001B[1;32m     27\u001B[0m \u001B[0;34m\u001B[0m\u001B[0m\n\u001B[0;32m---> 28\u001B[0;31m     \u001B[0mnode_temp\u001B[0m \u001B[0;34m=\u001B[0m \u001B[0mcoordinates\u001B[0m\u001B[0;34m[\u001B[0m\u001B[0;34m-\u001B[0m\u001B[0mint\u001B[0m\u001B[0;34m(\u001B[0m\u001B[0mevolve\u001B[0m\u001B[0;34m[\u001B[0m\u001B[0;34m-\u001B[0m\u001B[0;36m1\u001B[0m\u001B[0;34m]\u001B[0m\u001B[0;34m)\u001B[0m\u001B[0;34m:\u001B[0m\u001B[0;34m]\u001B[0m\u001B[0;34m\u001B[0m\u001B[0;34m\u001B[0m\u001B[0m\n\u001B[0m\u001B[1;32m     29\u001B[0m \u001B[0;34m\u001B[0m\u001B[0m\n\u001B[1;32m     30\u001B[0m     \u001B[0;32mfor\u001B[0m \u001B[0mj\u001B[0m \u001B[0;32min\u001B[0m \u001B[0mrange\u001B[0m\u001B[0;34m(\u001B[0m\u001B[0mlen\u001B[0m\u001B[0;34m(\u001B[0m\u001B[0mindex_rnr\u001B[0m\u001B[0;34m)\u001B[0m\u001B[0;34m)\u001B[0m\u001B[0;34m:\u001B[0m\u001B[0;34m\u001B[0m\u001B[0;34m\u001B[0m\u001B[0m\n",
      "\u001B[0;32m/tmp/ipykernel_70027/1942965646.py\u001B[0m in \u001B[0;36mtissue1\u001B[0;34m(prob_branch, fav, fchem)\u001B[0m\n\u001B[1;32m     26\u001B[0m     \u001B[0mindex_rnr\u001B[0m \u001B[0;34m=\u001B[0m \u001B[0mnp\u001B[0m\u001B[0;34m.\u001B[0m\u001B[0marray\u001B[0m\u001B[0;34m(\u001B[0m\u001B[0;34m[\u001B[0m\u001B[0mnp\u001B[0m\u001B[0;34m.\u001B[0m\u001B[0mwhere\u001B[0m\u001B[0;34m(\u001B[0m\u001B[0mcumprob\u001B[0m\u001B[0;34m[\u001B[0m\u001B[0mj\u001B[0m\u001B[0;34m]\u001B[0m\u001B[0;34m>\u001B[0m\u001B[0mrnr\u001B[0m\u001B[0;34m[\u001B[0m\u001B[0mj\u001B[0m\u001B[0;34m]\u001B[0m\u001B[0;34m)\u001B[0m\u001B[0;34m[\u001B[0m\u001B[0;36m0\u001B[0m\u001B[0;34m]\u001B[0m\u001B[0;34m[\u001B[0m\u001B[0;36m0\u001B[0m\u001B[0;34m]\u001B[0m\u001B[0;34m-\u001B[0m\u001B[0;36m1\u001B[0m \u001B[0;32mfor\u001B[0m \u001B[0mj\u001B[0m \u001B[0;32min\u001B[0m \u001B[0mrange\u001B[0m\u001B[0;34m(\u001B[0m\u001B[0mlen\u001B[0m\u001B[0;34m(\u001B[0m\u001B[0mrnr\u001B[0m\u001B[0;34m)\u001B[0m\u001B[0;34m)\u001B[0m\u001B[0;34m]\u001B[0m\u001B[0;34m)\u001B[0m\u001B[0;34m\u001B[0m\u001B[0;34m\u001B[0m\u001B[0m\n\u001B[1;32m     27\u001B[0m \u001B[0;34m\u001B[0m\u001B[0m\n\u001B[0;32m---> 28\u001B[0;31m     \u001B[0mnode_temp\u001B[0m \u001B[0;34m=\u001B[0m \u001B[0mcoordinates\u001B[0m\u001B[0;34m[\u001B[0m\u001B[0;34m-\u001B[0m\u001B[0mint\u001B[0m\u001B[0;34m(\u001B[0m\u001B[0mevolve\u001B[0m\u001B[0;34m[\u001B[0m\u001B[0;34m-\u001B[0m\u001B[0;36m1\u001B[0m\u001B[0;34m]\u001B[0m\u001B[0;34m)\u001B[0m\u001B[0;34m:\u001B[0m\u001B[0;34m]\u001B[0m\u001B[0;34m\u001B[0m\u001B[0;34m\u001B[0m\u001B[0m\n\u001B[0m\u001B[1;32m     29\u001B[0m \u001B[0;34m\u001B[0m\u001B[0m\n\u001B[1;32m     30\u001B[0m     \u001B[0;32mfor\u001B[0m \u001B[0mj\u001B[0m \u001B[0;32min\u001B[0m \u001B[0mrange\u001B[0m\u001B[0;34m(\u001B[0m\u001B[0mlen\u001B[0m\u001B[0;34m(\u001B[0m\u001B[0mindex_rnr\u001B[0m\u001B[0;34m)\u001B[0m\u001B[0;34m)\u001B[0m\u001B[0;34m:\u001B[0m\u001B[0;34m\u001B[0m\u001B[0;34m\u001B[0m\u001B[0m\n",
      "\u001B[0;32m/snap/pycharm-professional/418/plugins/python-ce/helpers/pydev/_pydevd_bundle/pydevd_frame.py\u001B[0m in \u001B[0;36mtrace_dispatch\u001B[0;34m(self, frame, event, arg)\u001B[0m\n\u001B[1;32m    886\u001B[0m \u001B[0;34m\u001B[0m\u001B[0m\n\u001B[1;32m    887\u001B[0m                 \u001B[0;32mif\u001B[0m \u001B[0mplugin_stop\u001B[0m\u001B[0;34m:\u001B[0m\u001B[0;34m\u001B[0m\u001B[0;34m\u001B[0m\u001B[0m\n\u001B[0;32m--> 888\u001B[0;31m                     \u001B[0mstopped_on_plugin\u001B[0m \u001B[0;34m=\u001B[0m \u001B[0mplugin_manager\u001B[0m\u001B[0;34m.\u001B[0m\u001B[0mstop\u001B[0m\u001B[0;34m(\u001B[0m\u001B[0mmain_debugger\u001B[0m\u001B[0;34m,\u001B[0m \u001B[0mframe\u001B[0m\u001B[0;34m,\u001B[0m \u001B[0mevent\u001B[0m\u001B[0;34m,\u001B[0m \u001B[0mself\u001B[0m\u001B[0;34m.\u001B[0m\u001B[0m_args\u001B[0m\u001B[0;34m,\u001B[0m \u001B[0mstop_info\u001B[0m\u001B[0;34m,\u001B[0m \u001B[0marg\u001B[0m\u001B[0;34m,\u001B[0m \u001B[0mstep_cmd\u001B[0m\u001B[0;34m)\u001B[0m\u001B[0;34m\u001B[0m\u001B[0;34m\u001B[0m\u001B[0m\n\u001B[0m\u001B[1;32m    889\u001B[0m                 \u001B[0;32melif\u001B[0m \u001B[0mstop\u001B[0m\u001B[0;34m:\u001B[0m\u001B[0;34m\u001B[0m\u001B[0;34m\u001B[0m\u001B[0m\n\u001B[1;32m    890\u001B[0m                     \u001B[0;32mif\u001B[0m \u001B[0mis_line\u001B[0m\u001B[0;34m:\u001B[0m\u001B[0;34m\u001B[0m\u001B[0;34m\u001B[0m\u001B[0m\n",
      "\u001B[0;32m/snap/pycharm-professional/418/plugins/python/helpers-pro/jupyter_debug/pydev_jupyter_plugin.py\u001B[0m in \u001B[0;36mstop\u001B[0;34m(plugin, pydb, frame, event, args, stop_info, arg, step_cmd)\u001B[0m\n\u001B[1;32m    167\u001B[0m         \u001B[0mframe\u001B[0m \u001B[0;34m=\u001B[0m \u001B[0msuspend_jupyter\u001B[0m\u001B[0;34m(\u001B[0m\u001B[0mmain_debugger\u001B[0m\u001B[0;34m,\u001B[0m \u001B[0mthread\u001B[0m\u001B[0;34m,\u001B[0m \u001B[0mframe\u001B[0m\u001B[0;34m,\u001B[0m \u001B[0mstep_cmd\u001B[0m\u001B[0;34m)\u001B[0m\u001B[0;34m\u001B[0m\u001B[0;34m\u001B[0m\u001B[0m\n\u001B[1;32m    168\u001B[0m         \u001B[0;32mif\u001B[0m \u001B[0mframe\u001B[0m\u001B[0;34m:\u001B[0m\u001B[0;34m\u001B[0m\u001B[0;34m\u001B[0m\u001B[0m\n\u001B[0;32m--> 169\u001B[0;31m             \u001B[0mmain_debugger\u001B[0m\u001B[0;34m.\u001B[0m\u001B[0mdo_wait_suspend\u001B[0m\u001B[0;34m(\u001B[0m\u001B[0mthread\u001B[0m\u001B[0;34m,\u001B[0m \u001B[0mframe\u001B[0m\u001B[0;34m,\u001B[0m \u001B[0mevent\u001B[0m\u001B[0;34m,\u001B[0m \u001B[0marg\u001B[0m\u001B[0;34m)\u001B[0m\u001B[0;34m\u001B[0m\u001B[0;34m\u001B[0m\u001B[0m\n\u001B[0m\u001B[1;32m    170\u001B[0m             \u001B[0;32mreturn\u001B[0m \u001B[0;32mTrue\u001B[0m\u001B[0;34m\u001B[0m\u001B[0;34m\u001B[0m\u001B[0m\n\u001B[1;32m    171\u001B[0m     \u001B[0;32mreturn\u001B[0m \u001B[0;32mFalse\u001B[0m\u001B[0;34m\u001B[0m\u001B[0;34m\u001B[0m\u001B[0m\n",
      "\u001B[0;32m/snap/pycharm-professional/418/plugins/python-ce/helpers/pydev/pydevd.py\u001B[0m in \u001B[0;36mdo_wait_suspend\u001B[0;34m(self, thread, frame, event, arg, send_suspend_message, is_unhandled_exception)\u001B[0m\n\u001B[1;32m   1218\u001B[0m \u001B[0;34m\u001B[0m\u001B[0m\n\u001B[1;32m   1219\u001B[0m         \u001B[0;32mwith\u001B[0m \u001B[0mself\u001B[0m\u001B[0;34m.\u001B[0m\u001B[0m_threads_suspended_single_notification\u001B[0m\u001B[0;34m.\u001B[0m\u001B[0mnotify_thread_suspended\u001B[0m\u001B[0;34m(\u001B[0m\u001B[0mthread_id\u001B[0m\u001B[0;34m,\u001B[0m \u001B[0mstop_reason\u001B[0m\u001B[0;34m)\u001B[0m\u001B[0;34m:\u001B[0m\u001B[0;34m\u001B[0m\u001B[0;34m\u001B[0m\u001B[0m\n\u001B[0;32m-> 1220\u001B[0;31m             \u001B[0mself\u001B[0m\u001B[0;34m.\u001B[0m\u001B[0m_do_wait_suspend\u001B[0m\u001B[0;34m(\u001B[0m\u001B[0mthread\u001B[0m\u001B[0;34m,\u001B[0m \u001B[0mframe\u001B[0m\u001B[0;34m,\u001B[0m \u001B[0mevent\u001B[0m\u001B[0;34m,\u001B[0m \u001B[0marg\u001B[0m\u001B[0;34m,\u001B[0m \u001B[0msuspend_type\u001B[0m\u001B[0;34m,\u001B[0m \u001B[0mfrom_this_thread\u001B[0m\u001B[0;34m)\u001B[0m\u001B[0;34m\u001B[0m\u001B[0;34m\u001B[0m\u001B[0m\n\u001B[0m\u001B[1;32m   1221\u001B[0m \u001B[0;34m\u001B[0m\u001B[0m\n\u001B[1;32m   1222\u001B[0m     \u001B[0;32mdef\u001B[0m \u001B[0m_do_wait_suspend\u001B[0m\u001B[0;34m(\u001B[0m\u001B[0mself\u001B[0m\u001B[0;34m,\u001B[0m \u001B[0mthread\u001B[0m\u001B[0;34m,\u001B[0m \u001B[0mframe\u001B[0m\u001B[0;34m,\u001B[0m \u001B[0mevent\u001B[0m\u001B[0;34m,\u001B[0m \u001B[0marg\u001B[0m\u001B[0;34m,\u001B[0m \u001B[0msuspend_type\u001B[0m\u001B[0;34m,\u001B[0m \u001B[0mfrom_this_thread\u001B[0m\u001B[0;34m)\u001B[0m\u001B[0;34m:\u001B[0m\u001B[0;34m\u001B[0m\u001B[0;34m\u001B[0m\u001B[0m\n",
      "\u001B[0;32m/snap/pycharm-professional/418/plugins/python-ce/helpers/pydev/pydevd.py\u001B[0m in \u001B[0;36m_do_wait_suspend\u001B[0;34m(self, thread, frame, event, arg, suspend_type, from_this_thread)\u001B[0m\n\u001B[1;32m   1233\u001B[0m \u001B[0;34m\u001B[0m\u001B[0m\n\u001B[1;32m   1234\u001B[0m                 \u001B[0mself\u001B[0m\u001B[0;34m.\u001B[0m\u001B[0mprocess_internal_commands\u001B[0m\u001B[0;34m(\u001B[0m\u001B[0;34m)\u001B[0m\u001B[0;34m\u001B[0m\u001B[0;34m\u001B[0m\u001B[0m\n\u001B[0;32m-> 1235\u001B[0;31m                 \u001B[0mtime\u001B[0m\u001B[0;34m.\u001B[0m\u001B[0msleep\u001B[0m\u001B[0;34m(\u001B[0m\u001B[0;36m0.01\u001B[0m\u001B[0;34m)\u001B[0m\u001B[0;34m\u001B[0m\u001B[0;34m\u001B[0m\u001B[0m\n\u001B[0m\u001B[1;32m   1236\u001B[0m \u001B[0;34m\u001B[0m\u001B[0m\n\u001B[1;32m   1237\u001B[0m         \u001B[0mself\u001B[0m\u001B[0;34m.\u001B[0m\u001B[0mcancel_async_evaluation\u001B[0m\u001B[0;34m(\u001B[0m\u001B[0mget_current_thread_id\u001B[0m\u001B[0;34m(\u001B[0m\u001B[0mthread\u001B[0m\u001B[0;34m)\u001B[0m\u001B[0;34m,\u001B[0m \u001B[0mstr\u001B[0m\u001B[0;34m(\u001B[0m\u001B[0mid\u001B[0m\u001B[0;34m(\u001B[0m\u001B[0mframe\u001B[0m\u001B[0;34m)\u001B[0m\u001B[0;34m)\u001B[0m\u001B[0;34m)\u001B[0m\u001B[0;34m\u001B[0m\u001B[0;34m\u001B[0m\u001B[0m\n",
      "\u001B[0;31mKeyboardInterrupt\u001B[0m: "
     ]
    }
   ],
   "execution_count": 31
  },
  {
   "cell_type": "code",
   "id": "66b65529-fb63-4663-956c-9584e5f4b232",
   "metadata": {
    "ExecuteTime": {
     "end_time": "2024-10-01T17:52:31.762182Z",
     "start_time": "2024-10-01T17:52:31.671945Z"
    }
   },
   "source": [
    "plotter_basic()"
   ],
   "outputs": [
    {
     "data": {
      "text/plain": [
       "<Figure size 288x288 with 1 Axes>"
      ],
      "image/png": "[encoded data removed]"
     },
     "metadata": {},
     "output_type": "display_data"
    }
   ],
   "execution_count": 26
  },
  {
   "cell_type": "code",
   "execution_count": null,
   "id": "6d976154",
   "metadata": {},
   "outputs": [],
   "source": []
  },
  {
   "cell_type": "code",
   "execution_count": null,
   "id": "422c0b3c",
   "metadata": {},
   "outputs": [],
   "source": []
  },
  {
   "cell_type": "code",
   "execution_count": null,
   "id": "7e878c63-532b-42e9-bd12-557ade8599a0",
   "metadata": {},
   "outputs": [],
   "source": []
  },
  {
   "cell_type": "code",
   "execution_count": null,
   "id": "c2b891b0-c0eb-4f39-a2c9-2c474dbedaab",
   "metadata": {},
   "outputs": [],
   "source": []
  },
  {
   "cell_type": "code",
   "execution_count": null,
   "id": "af22c3c3-f20e-4756-aa41-c07e05b1c7b1",
   "metadata": {},
   "outputs": [],
   "source": []
  },
  {
   "cell_type": "code",
   "execution_count": null,
   "id": "a90b337f-af08-4e6d-ac63-0fecd761cbb7",
   "metadata": {},
   "outputs": [],
   "source": []
  },
  {
   "cell_type": "code",
   "execution_count": null,
   "id": "7ab559e5-dea4-4990-9bee-e443e3a11e2c",
   "metadata": {},
   "outputs": [],
   "source": []
  },
  {
   "cell_type": "code",
   "execution_count": null,
   "id": "4a4befb4-91ec-409a-8eba-d5269de19c93",
   "metadata": {},
   "outputs": [],
   "source": []
  },
  {
   "cell_type": "code",
   "execution_count": null,
   "id": "c00b74cd-49d2-4a02-8489-a145ff9f3ab1",
   "metadata": {},
   "outputs": [],
   "source": []
  },
  {
   "cell_type": "code",
   "execution_count": null,
   "id": "ee5d76ff-fab1-4644-b543-97ba8d8be7c4",
   "metadata": {},
   "outputs": [],
   "source": []
  },
  {
   "cell_type": "markdown",
   "id": "1ec5196c-1da1-4fa0-bb19-5f2899a198f4",
   "metadata": {},
   "source": [
    "## New implementation"
   ]
  },
  {
   "cell_type": "code",
   "execution_count": null,
   "id": "1b542479-ff7e-4157-bf6c-9565a13ec907",
   "metadata": {},
   "outputs": [],
   "source": []
  },
  {
   "cell_type": "code",
   "execution_count": null,
   "id": "f104966f-c953-4b75-a1ac-d3dd23ed0ac4",
   "metadata": {},
   "outputs": [],
   "source": [
    "\n"
   ]
  },
  {
   "cell_type": "code",
   "execution_count": null,
   "id": "fa009543-af35-46ba-b51b-e9e98def15b9",
   "metadata": {},
   "outputs": [],
   "source": []
  },
  {
   "cell_type": "code",
   "execution_count": 62,
   "id": "1ec85041-214c-46ca-b781-692fb81e8932",
   "metadata": {},
   "outputs": [
    {
     "data": {
      "image/png": "[encoded data removed]",
      "text/plain": [
       "<Figure size 800x800 with 1 Axes>"
      ]
     },
     "metadata": {},
     "output_type": "display_data"
    }
   ],
   "source": [
    "plotter_basic()"
   ]
  },
  {
   "cell_type": "code",
   "id": "50ad70c9-4a7f-4a73-a69a-fdfd05f8bda6",
   "metadata": {
    "ExecuteTime": {
     "end_time": "2024-10-01T18:03:51.948055Z",
     "start_time": "2024-10-01T18:03:51.937608Z"
    }
   },
   "source": [],
   "outputs": [],
   "execution_count": null
  }
 ],
 "metadata": {
  "kernelspec": {
   "display_name": "Python 3 (ipykernel)",
   "language": "python",
   "name": "python3"
  },
  "language_info": {
   "codemirror_mode": {
    "name": "ipython",
    "version": 3
   },
   "file_extension": ".py",
   "mimetype": "text/x-python",
   "name": "python",
   "nbconvert_exporter": "python",
   "pygments_lexer": "ipython3",
   "version": "3.10.12"
  }
 },
 "nbformat": 4,
 "nbformat_minor": 5
}
