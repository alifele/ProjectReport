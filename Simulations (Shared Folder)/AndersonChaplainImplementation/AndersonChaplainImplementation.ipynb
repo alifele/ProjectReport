{
 "cells": [
  {
   "cell_type": "code",
   "execution_count": 1,
   "id": "de4873e0-b400-4912-9ff8-b1963e061404",
   "metadata": {},
   "outputs": [],
   "source": [
    "import numpy as np\n",
    "import matplotlib.pyplot as plt"
   ]
  },
  {
   "cell_type": "code",
   "execution_count": null,
   "id": "fcfa824f-fd1d-4956-970d-06c4a0b63a08",
   "metadata": {},
   "outputs": [],
   "source": [
    "L = 1\n",
    "N_x = 1000\n",
    "T_end = 1\n"
   ]
  }
 ],
 "metadata": {
  "kernelspec": {
   "display_name": "Python (Computation)",
   "language": "python",
   "name": "computation"
  },
  "language_info": {
   "codemirror_mode": {
    "name": "ipython",
    "version": 3
   },
   "file_extension": ".py",
   "mimetype": "text/x-python",
   "name": "python",
   "nbconvert_exporter": "python",
   "pygments_lexer": "ipython3",
   "version": "3.10.12"
  }
 },
 "nbformat": 4,
 "nbformat_minor": 5
}
